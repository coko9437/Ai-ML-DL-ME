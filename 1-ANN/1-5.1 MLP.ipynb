{
 "nbformat": 4,
 "nbformat_minor": 0,
 "metadata": {
  "colab": {
   "provenance": []
  },
  "kernelspec": {
   "display_name": "Python 3",
   "language": "python",
   "name": "python3"
  },
  "language_info": {
   "codemirror_mode": {
    "name": "ipython",
    "version": 3
   },
   "file_extension": ".py",
   "mimetype": "text/x-python",
   "name": "python",
   "nbconvert_exporter": "python",
   "pygments_lexer": "ipython3",
   "version": "3.7.4"
  }
 },
 "cells": [
  {
   "cell_type": "code",
   "source": [
    "# from google.colab import drive\n",
    "# drive.mount('/content/gdrive')"
   ],
   "metadata": {
    "id": "w99Clk26fVRV",
    "colab": {
     "base_uri": "https://localhost:8080/"
    },
    "executionInfo": {
     "status": "ok",
     "timestamp": 1697160823547,
     "user_tz": -540,
     "elapsed": 20310,
     "user": {
      "displayName": "이상용",
      "userId": "12156487413186259581"
     }
    },
    "outputId": "cb26ce52-1a1e-4b4f-fba6-e5585977c852",
    "ExecuteTime": {
     "end_time": "2025-10-02T02:29:29.112682Z",
     "start_time": "2025-10-02T02:29:29.097055Z"
    }
   },
   "outputs": [],
   "execution_count": 1
  },
  {
   "cell_type": "code",
   "source": "# cd/content/gdrive/My Drive/pytorch_dlbro",
   "metadata": {
    "id": "-apfM7tLfVZq",
    "colab": {
     "base_uri": "https://localhost:8080/"
    },
    "executionInfo": {
     "status": "ok",
     "timestamp": 1697160823548,
     "user_tz": -540,
     "elapsed": 13,
     "user": {
      "displayName": "이상용",
      "userId": "12156487413186259581"
     }
    },
    "outputId": "79e23ff7-466a-46cc-acd4-b122d4ac8fd7",
    "ExecuteTime": {
     "end_time": "2025-10-02T02:29:29.175189Z",
     "start_time": "2025-10-02T02:29:29.143938Z"
    }
   },
   "outputs": [],
   "execution_count": 2
  },
  {
   "cell_type": "code",
   "metadata": {
    "id": "DRe-AWuu-Zdc",
    "executionInfo": {
     "status": "ok",
     "timestamp": 1697160833033,
     "user_tz": -540,
     "elapsed": 9492,
     "user": {
      "displayName": "이상용",
      "userId": "12156487413186259581"
     }
    },
    "ExecuteTime": {
     "end_time": "2025-10-17T00:51:36.139300Z",
     "start_time": "2025-10-17T00:51:23.996752Z"
    }
   },
   "source": [
    "import pandas as pd # 데이터프레임 형태를 다룰 수 있는 라이브러리\n",
    "import numpy as np\n",
    "from sklearn.model_selection import train_test_split # 전체 데이터를 학습 데이터와 평가 데이터로 나눈다.\n",
    "\n",
    "# ANN\n",
    "import torch\n",
    "from torch import nn, optim # torch 내의 세부적인 기능을 불러온다. (신경망 기술, 손실함수, 최적화 방법 등)\n",
    "from torch.utils.data import DataLoader, Dataset # 데이터를 모델에 사용할 수 있도록 정리해 주는 라이브러리\n",
    "import torch.nn.functional as F # torch 내의 세부적인 기능을 불러온다. (신경망 기술 등)\n",
    "\n",
    "# Loss\n",
    "from sklearn.metrics import mean_squared_error # Regression 문제의 평가를 위해 MSE(Mean Squared Error)를 불러온다.\n",
    "\n",
    "# Plot\n",
    "import matplotlib.pyplot as plt # 시각화 도구"
   ],
   "outputs": [],
   "execution_count": 1
  },
  {
   "cell_type": "code",
   "metadata": {
    "id": "xABSoi33-Zde",
    "executionInfo": {
     "status": "ok",
     "timestamp": 1697160833651,
     "user_tz": -540,
     "elapsed": 624,
     "user": {
      "displayName": "이상용",
      "userId": "12156487413186259581"
     }
    },
    "ExecuteTime": {
     "end_time": "2025-10-02T02:29:45.385355Z",
     "start_time": "2025-10-02T02:29:45.335709Z"
    }
   },
   "source": "df = pd.read_csv('./reg.csv', index_col=[0])",
   "outputs": [],
   "execution_count": 4
  },
  {
   "cell_type": "code",
   "metadata": {
    "id": "v-Y1BQPG-Zde",
    "colab": {
     "base_uri": "https://localhost:8080/",
     "height": 363
    },
    "executionInfo": {
     "status": "ok",
     "timestamp": 1697160833652,
     "user_tz": -540,
     "elapsed": 34,
     "user": {
      "displayName": "이상용",
      "userId": "12156487413186259581"
     }
    },
    "outputId": "744b4fae-19dd-4c0c-9774-cb76a522820b",
    "ExecuteTime": {
     "end_time": "2025-10-02T02:29:45.518993Z",
     "start_time": "2025-10-02T02:29:45.460391Z"
    }
   },
   "source": [
    "# 데이터프레임 보여주기\n",
    "# df.head()는 상위 5줄만 보여준다.\n",
    "# df.head(10) 괄호 안에 숫자 10을 넣으면 10줄을 보여준다.\n",
    "df.head(10)"
   ],
   "outputs": [
    {
     "data": {
      "text/plain": [
       "         x1        x2        x3        x4        x5        x6        x7  \\\n",
       "0  0.034633  0.206919  0.137057  0.540526  0.193941  0.699239  0.630532   \n",
       "1  0.028920  0.014315  0.276113  0.255945  0.618886  0.555407  0.782263   \n",
       "2  0.020627  0.033230  0.281116  0.525591  0.165269  0.624102  0.586005   \n",
       "3  0.022749  0.033801  0.125044  0.263253  0.251509  0.658532  0.432160   \n",
       "4  0.022148  0.029374  0.121057  0.521126  0.399670  0.448086  0.520158   \n",
       "5  0.038651  0.019568  0.139449  0.719852  0.560581  0.610531  0.578661   \n",
       "6  0.033301  0.136658  0.336651  0.274996  0.472140  0.331155  0.643546   \n",
       "7  0.026858  0.151993  0.300627  0.115449  0.463345  0.532618  0.938389   \n",
       "8  0.021739  0.132378  0.259349  0.488716  0.389581  0.411536  0.984672   \n",
       "9  0.014588  0.144471  0.331099  0.759479  0.696532  0.334544  0.834204   \n",
       "\n",
       "         x8        x9       x10       x11       x12       x13     Price  \n",
       "0  0.239410  0.027375  0.209857  0.347609  0.996394  0.102644  0.422222  \n",
       "1  0.482977  0.103031  0.106690  0.520776  0.996650  0.187120  0.368889  \n",
       "2  0.272713  0.036010  0.106986  0.595301  0.983284  0.084079  0.660000  \n",
       "3  0.344932  0.150018  0.068317  0.651297  0.989989  0.015990  0.631111  \n",
       "4  0.495342  0.104383  0.069360  0.560116  0.998723  0.092782  0.693333  \n",
       "5  0.387926  0.133629  0.072967  0.514078  0.986385  0.127396  0.526667  \n",
       "6  0.661869  0.270651  0.239929  0.475964  0.993516  0.300521  0.397778  \n",
       "7  0.465781  0.139893  0.238901  0.243669  0.991425  0.431171  0.491111  \n",
       "8  0.526151  0.201324  0.236329  0.306712  0.965204  0.767177  0.255556  \n",
       "9  0.611416  0.174935  0.237351  0.437982  0.967070  0.445798  0.308889  "
      ],
      "text/html": [
       "<div>\n",
       "<style scoped>\n",
       "    .dataframe tbody tr th:only-of-type {\n",
       "        vertical-align: middle;\n",
       "    }\n",
       "\n",
       "    .dataframe tbody tr th {\n",
       "        vertical-align: top;\n",
       "    }\n",
       "\n",
       "    .dataframe thead th {\n",
       "        text-align: right;\n",
       "    }\n",
       "</style>\n",
       "<table border=\"1\" class=\"dataframe\">\n",
       "  <thead>\n",
       "    <tr style=\"text-align: right;\">\n",
       "      <th></th>\n",
       "      <th>x1</th>\n",
       "      <th>x2</th>\n",
       "      <th>x3</th>\n",
       "      <th>x4</th>\n",
       "      <th>x5</th>\n",
       "      <th>x6</th>\n",
       "      <th>x7</th>\n",
       "      <th>x8</th>\n",
       "      <th>x9</th>\n",
       "      <th>x10</th>\n",
       "      <th>x11</th>\n",
       "      <th>x12</th>\n",
       "      <th>x13</th>\n",
       "      <th>Price</th>\n",
       "    </tr>\n",
       "  </thead>\n",
       "  <tbody>\n",
       "    <tr>\n",
       "      <th>0</th>\n",
       "      <td>0.034633</td>\n",
       "      <td>0.206919</td>\n",
       "      <td>0.137057</td>\n",
       "      <td>0.540526</td>\n",
       "      <td>0.193941</td>\n",
       "      <td>0.699239</td>\n",
       "      <td>0.630532</td>\n",
       "      <td>0.239410</td>\n",
       "      <td>0.027375</td>\n",
       "      <td>0.209857</td>\n",
       "      <td>0.347609</td>\n",
       "      <td>0.996394</td>\n",
       "      <td>0.102644</td>\n",
       "      <td>0.422222</td>\n",
       "    </tr>\n",
       "    <tr>\n",
       "      <th>1</th>\n",
       "      <td>0.028920</td>\n",
       "      <td>0.014315</td>\n",
       "      <td>0.276113</td>\n",
       "      <td>0.255945</td>\n",
       "      <td>0.618886</td>\n",
       "      <td>0.555407</td>\n",
       "      <td>0.782263</td>\n",
       "      <td>0.482977</td>\n",
       "      <td>0.103031</td>\n",
       "      <td>0.106690</td>\n",
       "      <td>0.520776</td>\n",
       "      <td>0.996650</td>\n",
       "      <td>0.187120</td>\n",
       "      <td>0.368889</td>\n",
       "    </tr>\n",
       "    <tr>\n",
       "      <th>2</th>\n",
       "      <td>0.020627</td>\n",
       "      <td>0.033230</td>\n",
       "      <td>0.281116</td>\n",
       "      <td>0.525591</td>\n",
       "      <td>0.165269</td>\n",
       "      <td>0.624102</td>\n",
       "      <td>0.586005</td>\n",
       "      <td>0.272713</td>\n",
       "      <td>0.036010</td>\n",
       "      <td>0.106986</td>\n",
       "      <td>0.595301</td>\n",
       "      <td>0.983284</td>\n",
       "      <td>0.084079</td>\n",
       "      <td>0.660000</td>\n",
       "    </tr>\n",
       "    <tr>\n",
       "      <th>3</th>\n",
       "      <td>0.022749</td>\n",
       "      <td>0.033801</td>\n",
       "      <td>0.125044</td>\n",
       "      <td>0.263253</td>\n",
       "      <td>0.251509</td>\n",
       "      <td>0.658532</td>\n",
       "      <td>0.432160</td>\n",
       "      <td>0.344932</td>\n",
       "      <td>0.150018</td>\n",
       "      <td>0.068317</td>\n",
       "      <td>0.651297</td>\n",
       "      <td>0.989989</td>\n",
       "      <td>0.015990</td>\n",
       "      <td>0.631111</td>\n",
       "    </tr>\n",
       "    <tr>\n",
       "      <th>4</th>\n",
       "      <td>0.022148</td>\n",
       "      <td>0.029374</td>\n",
       "      <td>0.121057</td>\n",
       "      <td>0.521126</td>\n",
       "      <td>0.399670</td>\n",
       "      <td>0.448086</td>\n",
       "      <td>0.520158</td>\n",
       "      <td>0.495342</td>\n",
       "      <td>0.104383</td>\n",
       "      <td>0.069360</td>\n",
       "      <td>0.560116</td>\n",
       "      <td>0.998723</td>\n",
       "      <td>0.092782</td>\n",
       "      <td>0.693333</td>\n",
       "    </tr>\n",
       "    <tr>\n",
       "      <th>5</th>\n",
       "      <td>0.038651</td>\n",
       "      <td>0.019568</td>\n",
       "      <td>0.139449</td>\n",
       "      <td>0.719852</td>\n",
       "      <td>0.560581</td>\n",
       "      <td>0.610531</td>\n",
       "      <td>0.578661</td>\n",
       "      <td>0.387926</td>\n",
       "      <td>0.133629</td>\n",
       "      <td>0.072967</td>\n",
       "      <td>0.514078</td>\n",
       "      <td>0.986385</td>\n",
       "      <td>0.127396</td>\n",
       "      <td>0.526667</td>\n",
       "    </tr>\n",
       "    <tr>\n",
       "      <th>6</th>\n",
       "      <td>0.033301</td>\n",
       "      <td>0.136658</td>\n",
       "      <td>0.336651</td>\n",
       "      <td>0.274996</td>\n",
       "      <td>0.472140</td>\n",
       "      <td>0.331155</td>\n",
       "      <td>0.643546</td>\n",
       "      <td>0.661869</td>\n",
       "      <td>0.270651</td>\n",
       "      <td>0.239929</td>\n",
       "      <td>0.475964</td>\n",
       "      <td>0.993516</td>\n",
       "      <td>0.300521</td>\n",
       "      <td>0.397778</td>\n",
       "    </tr>\n",
       "    <tr>\n",
       "      <th>7</th>\n",
       "      <td>0.026858</td>\n",
       "      <td>0.151993</td>\n",
       "      <td>0.300627</td>\n",
       "      <td>0.115449</td>\n",
       "      <td>0.463345</td>\n",
       "      <td>0.532618</td>\n",
       "      <td>0.938389</td>\n",
       "      <td>0.465781</td>\n",
       "      <td>0.139893</td>\n",
       "      <td>0.238901</td>\n",
       "      <td>0.243669</td>\n",
       "      <td>0.991425</td>\n",
       "      <td>0.431171</td>\n",
       "      <td>0.491111</td>\n",
       "    </tr>\n",
       "    <tr>\n",
       "      <th>8</th>\n",
       "      <td>0.021739</td>\n",
       "      <td>0.132378</td>\n",
       "      <td>0.259349</td>\n",
       "      <td>0.488716</td>\n",
       "      <td>0.389581</td>\n",
       "      <td>0.411536</td>\n",
       "      <td>0.984672</td>\n",
       "      <td>0.526151</td>\n",
       "      <td>0.201324</td>\n",
       "      <td>0.236329</td>\n",
       "      <td>0.306712</td>\n",
       "      <td>0.965204</td>\n",
       "      <td>0.767177</td>\n",
       "      <td>0.255556</td>\n",
       "    </tr>\n",
       "    <tr>\n",
       "      <th>9</th>\n",
       "      <td>0.014588</td>\n",
       "      <td>0.144471</td>\n",
       "      <td>0.331099</td>\n",
       "      <td>0.759479</td>\n",
       "      <td>0.696532</td>\n",
       "      <td>0.334544</td>\n",
       "      <td>0.834204</td>\n",
       "      <td>0.611416</td>\n",
       "      <td>0.174935</td>\n",
       "      <td>0.237351</td>\n",
       "      <td>0.437982</td>\n",
       "      <td>0.967070</td>\n",
       "      <td>0.445798</td>\n",
       "      <td>0.308889</td>\n",
       "    </tr>\n",
       "  </tbody>\n",
       "</table>\n",
       "</div>"
      ]
     },
     "execution_count": 5,
     "metadata": {},
     "output_type": "execute_result"
    }
   ],
   "execution_count": 5
  },
  {
   "cell_type": "code",
   "metadata": {
    "id": "BQ-dk6tB-Zdi",
    "executionInfo": {
     "status": "ok",
     "timestamp": 1697160833652,
     "user_tz": -540,
     "elapsed": 27,
     "user": {
      "displayName": "이상용",
      "userId": "12156487413186259581"
     }
    },
    "colab": {
     "base_uri": "https://localhost:8080/"
    },
    "outputId": "ae980161-5066-40ea-ce88-2fef2a1bc1da",
    "ExecuteTime": {
     "end_time": "2025-10-02T02:29:46.028229Z",
     "start_time": "2025-10-02T02:29:46.012073Z"
    }
   },
   "source": [
    "# 데이터를 넘파이 배열로 만들기\n",
    "X = df.drop('Price', axis=1).to_numpy() # 데이터프레임에서 타겟값(Price)을 제외하고 넘파이 배열로 만들기\n",
    "Y = df['Price'].to_numpy().reshape((-1,1)) # 데이터프레임 형태의 타겟값을 넘파이 배열로 만들기\n",
    "Y.size\n",
    "print(X)\n",
    "# print(Y)"
   ],
   "outputs": [
    {
     "name": "stdout",
     "output_type": "stream",
     "text": [
      "[[0.03463293 0.20691874 0.13705684 ... 0.34760885 0.99639409 0.10264398]\n",
      " [0.02892023 0.01431456 0.27611271 ... 0.52077557 0.99665033 0.18711954]\n",
      " [0.02062738 0.03322998 0.28111574 ... 0.59530071 0.98328389 0.0840788 ]\n",
      " ...\n",
      " [0.03535199 0.02149474 0.42391812 ... 0.78270371 0.99579054 0.09404364]\n",
      " [0.02618206 0.02860316 0.44344242 ... 0.74918576 0.9868548  0.10739872]\n",
      " [0.04551912 0.02928918 0.44615622 ... 0.83523695 0.99422078 0.14630181]]\n"
     ]
    }
   ],
   "execution_count": 6
  },
  {
   "cell_type": "code",
   "metadata": {
    "id": "18HfoE6j-Zdi",
    "executionInfo": {
     "status": "ok",
     "timestamp": 1697160833653,
     "user_tz": -540,
     "elapsed": 23,
     "user": {
      "displayName": "이상용",
      "userId": "12156487413186259581"
     }
    },
    "ExecuteTime": {
     "end_time": "2025-10-02T02:29:46.229400Z",
     "start_time": "2025-10-02T02:29:46.213770Z"
    }
   },
   "source": [
    "class TensorData(Dataset):\n",
    "\n",
    "    def __init__(self, x_data, y_data):\n",
    "        self.x_data = torch.FloatTensor(x_data)\n",
    "        self.y_data = torch.FloatTensor(y_data)\n",
    "        self.len = self.y_data.shape[0]\n",
    "\n",
    "    def __getitem__(self, index):\n",
    "\n",
    "        return self.x_data[index], self.y_data[index]\n",
    "\n",
    "    def __len__(self):\n",
    "        return self.len"
   ],
   "outputs": [],
   "execution_count": 7
  },
  {
   "cell_type": "code",
   "metadata": {
    "id": "ItbfBoA--Zdj",
    "executionInfo": {
     "status": "ok",
     "timestamp": 1697160833654,
     "user_tz": -540,
     "elapsed": 23,
     "user": {
      "displayName": "이상용",
      "userId": "12156487413186259581"
     }
    },
    "ExecuteTime": {
     "end_time": "2025-10-02T02:29:46.436496Z",
     "start_time": "2025-10-02T02:29:46.389627Z"
    }
   },
   "source": [
    "# 전체 데이터를 학습 데이터와 평가 데이터로 나눈다.\n",
    "# 기준으로 잡은 논문이 전체 데이터를 50%, 50%로 나눴기 때문에 test size를 0.5로 설정한다.\n",
    "X_train, X_test, Y_train, Y_test = train_test_split(X, Y, test_size=0.5)\n",
    "\n",
    "# 학습 데이터, 시험 데이터 배치 형태로 구축하기\n",
    "trainsets = TensorData(X_train, Y_train)\n",
    "trainloader = torch.utils.data.DataLoader(trainsets, batch_size=32, shuffle=True)\n",
    "\n",
    "testsets = TensorData(X_test, Y_test)\n",
    "testloader = torch.utils.data.DataLoader(testsets,batch_size=32, shuffle=False)"
   ],
   "outputs": [],
   "execution_count": 8
  },
  {
   "cell_type": "code",
   "metadata": {
    "id": "ofSZdnBz-Zdj",
    "executionInfo": {
     "status": "ok",
     "timestamp": 1697160833654,
     "user_tz": -540,
     "elapsed": 22,
     "user": {
      "displayName": "이상용",
      "userId": "12156487413186259581"
     }
    },
    "ExecuteTime": {
     "end_time": "2025-10-02T02:29:46.707274Z",
     "start_time": "2025-10-02T02:29:46.671574Z"
    }
   },
   "source": [
    "# 은닉층을 왜 사용하나요?\n",
    "# 비유,\n",
    "# 그림을 그리는 데, 자녀 그림을 그리는데,\n",
    "# 은닉층이 없으면, -> 자녀의 눈만 그리기.\n",
    "# 은닉층이 있으면, -> 또 다른 특징을 -> 자녀의 입술 그리기.\n",
    "# 좀더 복잡한 구조의 특징을 잡아 나가는 것.\n",
    "# 자녀 그림을 그릴 때, 눈, 입, 눈썹, 머리, 하나의 결과물을 완성해 나가는 것.\n",
    "# 딥러닝,\n",
    "# 이미지 분류,\n",
    "# 사자, 호랑이 분류 하면,\n",
    "# 은닉층이 증가 한다는 것은,\n",
    "# 찾고자하는 특징이 증가한다는 이야기.\n",
    "# 단층 ) 1) 갈퀴 만 확인.\n",
    "# 다층 ) 1) 갈퀴 2) 눈 3) 몸 색깔 4) 줄무늬 여부\n",
    "#추가 되는 번호가 은닉층을 사용하는 이유.\n",
    "# 복잡한 구조의 특징들을 추가해서 원하는 결과를  분류 하는게 목적\n",
    "\n",
    "\n",
    "class Regressor(nn.Module):\n",
    "    def __init__(self):\n",
    "        super().__init__() # 모델 연산 정의\n",
    "        self.fc1 = nn.Linear(13, 50) # 입력층(13) -> 은닉층1(50)으로 가는 연산\n",
    "        self.fc2 = nn.Linear(50, 30) # 은닉층1(50) -> 은닉층2(30)으로 가는 연산\n",
    "        self.fc3 = nn.Linear(30, 1) # 은닉층2(30) -> 출력층(1)으로 가는 연산\n",
    "        self.dropout = nn.Dropout(0.5) # 연산이 될 때마다 50%의 비율로 랜덤하게 노드를 없앤다.\n",
    "\n",
    "    def forward(self, x): # 모델 연산의 순서를 정의\n",
    "        x = F.relu(self.fc1(x)) # Linear 계산 후 활성화 함수 ReLU를 적용한다.\n",
    "        x = self.dropout(F.relu(self.fc2(x))) # 은닉층2에서 드랍아웃을 적용한다.(즉, 30개의 20%인 6개의 노드가 계산에서 제외된다.)\n",
    "        x = F.relu(self.fc3(x)) # Linear 계산 후 활성화 함수 ReLU를 적용한다.\n",
    "\n",
    "        return x\n",
    "\n",
    "\n",
    "# 주의 사항\n",
    "# 드랍아웃은 과적합(overfitting)을 방지하기 위해 노드의 일부를 배제하고 계산하는 방식이기 때문에 절대로 출력층에 사용해서는 안 된다."
   ],
   "outputs": [],
   "execution_count": 9
  },
  {
   "cell_type": "code",
   "metadata": {
    "id": "0J0COt6Q-Zdk",
    "executionInfo": {
     "status": "ok",
     "timestamp": 1697160833655,
     "user_tz": -540,
     "elapsed": 21,
     "user": {
      "displayName": "이상용",
      "userId": "12156487413186259581"
     }
    },
    "ExecuteTime": {
     "end_time": "2025-10-02T02:29:49.520181Z",
     "start_time": "2025-10-02T02:29:46.734917Z"
    }
   },
   "source": [
    "model = Regressor()\n",
    "criterion = nn.MSELoss()\n",
    "# lr은 학습률이다.\n",
    "# weight_decay는 L2 정규화에서의 penalty 정도를 의미한다.\n",
    "# 방향이 추가, 어느 방향으로 진행할 지, 현재 움직임의 방향, 관성을 고려를 해서,\n",
    "# 최적값을 찾는 방식.\n",
    "# 요즘 구글에서 제공하는 최적화 과정도 많이 사용을함.\n",
    "\n",
    "optimizer = optim.Adam(model.parameters(), lr=0.001, weight_decay=1e-7)"
   ],
   "outputs": [],
   "execution_count": 10
  },
  {
   "cell_type": "code",
   "metadata": {
    "id": "nnD499k7-Zdl",
    "executionInfo": {
     "status": "ok",
     "timestamp": 1697160839229,
     "user_tz": -540,
     "elapsed": 5594,
     "user": {
      "displayName": "이상용",
      "userId": "12156487413186259581"
     }
    },
    "ExecuteTime": {
     "end_time": "2025-10-02T02:29:58.564385Z",
     "start_time": "2025-10-02T02:29:49.899600Z"
    }
   },
   "source": [
    "loss_ = [] # 그래프를 그리기 위한 loss 저장용 리스트\n",
    "n = len(trainloader)\n",
    "\n",
    "for epoch in range(400): # 400번 학습을 진행한다.\n",
    "\n",
    "    running_loss = 0.0\n",
    "\n",
    "    for data in trainloader: # 무작위로 섞인 32개 데이터가 있는 배치가 하나 씩 들어온다.\n",
    "\n",
    "        inputs, values = data # data에는 X, Y가 들어있다.\n",
    "\n",
    "        optimizer.zero_grad() # 최적화 초기화\n",
    "\n",
    "        outputs = model(inputs) # 모델에 입력값 대입 후 예측값 산출\n",
    "        loss = criterion(outputs, values) # 손실 함수 계산\n",
    "        loss.backward() # 손실 함수 기준으로 역전파 설정\n",
    "        optimizer.step() # 역전파를 진행하고 가중치 업데이트\n",
    "\n",
    "        running_loss += loss.item() # epoch 마다 평균 loss를 계산하기 위해 배치 loss를 더한다.\n",
    "\n",
    "    loss_.append(running_loss/n) # MSE(Mean Squared Error) 계산\n",
    "\n"
   ],
   "outputs": [],
   "execution_count": 11
  },
  {
   "cell_type": "code",
   "metadata": {
    "id": "vMgRW3dU-Zdm",
    "colab": {
     "base_uri": "https://localhost:8080/",
     "height": 472
    },
    "executionInfo": {
     "status": "ok",
     "timestamp": 1697160839835,
     "user_tz": -540,
     "elapsed": 640,
     "user": {
      "displayName": "이상용",
      "userId": "12156487413186259581"
     }
    },
    "outputId": "5540ef90-d446-4e97-92c7-763614d0d868",
    "ExecuteTime": {
     "end_time": "2025-10-02T02:29:59.214502Z",
     "start_time": "2025-10-02T02:29:58.765523Z"
    }
   },
   "source": [
    "plt.plot(loss_)\n",
    "plt.title(\"Training Loss\")\n",
    "plt.xlabel(\"epoch\")\n",
    "plt.show()"
   ],
   "outputs": [
    {
     "data": {
      "text/plain": [
       "<Figure size 640x480 with 1 Axes>"
      ],
      "image/png": "[encoded data removed]"
     },
     "metadata": {},
     "output_type": "display_data",
     "jetTransient": {
      "display_id": null
     }
    }
   ],
   "execution_count": 12
  },
  {
   "cell_type": "code",
   "metadata": {
    "id": "YR4Dhuux-Zdn",
    "executionInfo": {
     "status": "ok",
     "timestamp": 1697160839836,
     "user_tz": -540,
     "elapsed": 21,
     "user": {
      "displayName": "이상용",
      "userId": "12156487413186259581"
     }
    },
    "ExecuteTime": {
     "end_time": "2025-10-02T02:29:59.262512Z",
     "start_time": "2025-10-02T02:29:59.234505Z"
    }
   },
   "source": [
    "def evaluation(dataloader):\n",
    "\n",
    "    predictions = torch.tensor([], dtype=torch.float) # 예측값을 저장하는 텐서\n",
    "    actual = torch.tensor([], dtype=torch.float) # 실제값을 저장하는 텐서\n",
    "\n",
    "    with torch.no_grad():\n",
    "        model.eval() # 평가를 할 때에는 .eval() 반드시 사용해야 한다.\n",
    "        for data in dataloader:\n",
    "            inputs, values = data\n",
    "            outputs = model(inputs)\n",
    "\n",
    "            predictions = torch.cat((predictions, outputs), 0) # cat을 통해 예측값을 누적\n",
    "            actual = torch.cat((actual, values), 0) # cat을 통해 실제값을 누적\n",
    "\n",
    "    predictions = predictions.numpy() # 넘파이 배열로 변경\n",
    "    actual = actual.numpy() # 넘파이 배열로 변경\n",
    "    rmse = np.sqrt(mean_squared_error(predictions, actual)) # sklearn을 이용하여 RMSE 계산\n",
    "\n",
    "    return rmse\n",
    "\n",
    "# 평가 시 .eval()을 사용해야 하는 이유\n",
    "# 평가 시에는 온전한 모델로 평가를 해야하는데 .eval()이 아닌 .train()인 경우 드랍아웃이 활성화 되어 있다.\n",
    "# 따라서 드랍아웃이나 배치 정규화 등과 같이 학습 시에만 사용하는 기술들을 평가 시에는 비활성화 해야만 한다."
   ],
   "outputs": [],
   "execution_count": 13
  },
  {
   "cell_type": "code",
   "metadata": {
    "id": "J05sm8Wp-Zdn",
    "colab": {
     "base_uri": "https://localhost:8080/"
    },
    "executionInfo": {
     "status": "ok",
     "timestamp": 1697160839837,
     "user_tz": -540,
     "elapsed": 20,
     "user": {
      "displayName": "이상용",
      "userId": "12156487413186259581"
     }
    },
    "outputId": "5e489704-e0fd-4eb3-f818-621c1496f55e",
    "ExecuteTime": {
     "end_time": "2025-10-02T02:29:59.374504Z",
     "start_time": "2025-10-02T02:29:59.284521Z"
    }
   },
   "source": [
    "train_rmse = evaluation(trainloader) # 학습 데이터의 RMSE\n",
    "test_rmse = evaluation(testloader) # 시험 데이터의 RMSE\n",
    "\n",
    "print(\"Train RMSE: \",train_rmse)\n",
    "print(\"Test RMSE: \",test_rmse)\n",
    "\n",
    "# 예시를 위한 단순 비교입니다. 실제 연구에서는 디테일한 비교가 필요합니다.\n",
    "# 데이터를 무작위로 나누고 모델의 초기값도 random initial parameter를 사용했기 때문에 학습을 할 때 마다 결과가 다르게 나올 수 있습니다.\n",
    "# 이 강의에서는 학습의 흐름(for문)과 모델(Regressor) 부분을 주의 깊게 보시면 됩니다."
   ],
   "outputs": [
    {
     "name": "stdout",
     "output_type": "stream",
     "text": [
      "Train RMSE:  0.07035299\n",
      "Test RMSE:  0.11055463\n"
     ]
    }
   ],
   "execution_count": 14
  },
  {
   "cell_type": "code",
   "metadata": {
    "id": "oUcbpr9Jq6vP",
    "executionInfo": {
     "status": "ok",
     "timestamp": 1697160839837,
     "user_tz": -540,
     "elapsed": 15,
     "user": {
      "displayName": "이상용",
      "userId": "12156487413186259581"
     }
    },
    "ExecuteTime": {
     "end_time": "2025-10-02T02:29:59.406512Z",
     "start_time": "2025-10-02T02:29:59.393505Z"
    }
   },
   "source": [],
   "outputs": [],
   "execution_count": null
  }
 ]
}
