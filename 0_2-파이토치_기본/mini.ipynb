{
 "cells": [
  {
   "metadata": {
    "ExecuteTime": {
     "end_time": "2025-10-01T00:48:48.917847Z",
     "start_time": "2025-10-01T00:48:48.904284Z"
    }
   },
   "cell_type": "code",
   "source": "import torch",
   "id": "4348ad79e99e1eda",
   "outputs": [],
   "execution_count": 3
  },
  {
   "metadata": {
    "ExecuteTime": {
     "end_time": "2025-10-01T00:48:49.032399Z",
     "start_time": "2025-10-01T00:48:48.953262Z"
    }
   },
   "cell_type": "code",
   "source": [
    "# 📌 문제 1: PyTorch에서 랜덤 텐서를 생성하고, 가장 큰 값을 가진 인덱스를 찾으세요.\n",
    "\n",
    "# (1) 4x4 크기의 랜덤 텐서를 생성하세요.\n",
    "x = torch.rand(4,4)\n",
    "print(x)\n",
    "# (2) 각 행에서 가장 큰 값을 가진 인덱스를 찾으세요.\n",
    "max_indices = torch.argmax(x, dim=1)\n",
    "print(max_indices)"
   ],
   "id": "ba763aba966a972d",
   "outputs": [
    {
     "name": "stdout",
     "output_type": "stream",
     "text": [
      "tensor([[0.7055, 0.4114, 0.2662, 0.4409],\n",
      "        [0.5781, 0.9253, 0.1515, 0.4577],\n",
      "        [0.5089, 0.4581, 0.9822, 0.4780],\n",
      "        [0.6310, 0.5241, 0.5254, 0.0083]])\n",
      "tensor([0, 1, 2, 0])\n"
     ]
    }
   ],
   "execution_count": 4
  },
  {
   "metadata": {
    "ExecuteTime": {
     "end_time": "2025-10-01T00:48:49.113858Z",
     "start_time": "2025-10-01T00:48:49.057884Z"
    }
   },
   "cell_type": "code",
   "source": [
    "# 📌 문제 2: squeeze()와 unsqueeze()를 이용해 텐서의 차원을 조작하세요.\n",
    "#\n",
    "# # (1) (1, 3, 1, 4) 크기의 랜덤 텐서를 생성하세요.\n",
    "x = torch.rand(1,3,1,4)\n",
    "# # (2) squeeze()를 사용하여 크기를 줄이세요.\n",
    "x_squeezed = x.squeeze()\n",
    "print(x_squeezed.shape)\n",
    "# # (3) unsqueeze()를 사용하여 특정 차원에 새 차원을 추가하세요.\n",
    "x_unsqueezed = x_squeezed.unsqueeze_(1)\n",
    "print(x_unsqueezed.shape)"
   ],
   "id": "85046d4da6e6da62",
   "outputs": [
    {
     "name": "stdout",
     "output_type": "stream",
     "text": [
      "torch.Size([3, 4])\n",
      "torch.Size([3, 1, 4])\n"
     ]
    }
   ],
   "execution_count": 5
  },
  {
   "metadata": {
    "ExecuteTime": {
     "end_time": "2025-10-01T00:48:49.211026Z",
     "start_time": "2025-10-01T00:48:49.138337Z"
    }
   },
   "cell_type": "code",
   "source": [
    "# 📌 문제 3: torch.cat()과 torch.stack()의 차이를 확인하세요.\n",
    "# (1) 크기가 (2,3)인 두 개의 텐서를 만드세요.\n",
    "a = torch.tensor([[1,2,3],[4,5,6]])\n",
    "b = torch.tensor([[7,8,9],[10,11,12]])\n",
    "# (2) torch.cat()을 이용하여 dim=0 방향으로 연결하세요.\n",
    "cat_result = torch.cat([a,b], dim=0)\n",
    "print(cat_result)\n",
    "print(cat_result.shape)\n",
    "# (3) torch.stack()을 이용하여 dim=0 방향으로 스택하세요.\n",
    "stack_result = torch.stack([a,b], dim=0)\n",
    "print(stack_result)\n",
    "print(stack_result.shape)\n"
   ],
   "id": "f3f41ef0c211e8db",
   "outputs": [
    {
     "name": "stdout",
     "output_type": "stream",
     "text": [
      "tensor([[ 1,  2,  3],\n",
      "        [ 4,  5,  6],\n",
      "        [ 7,  8,  9],\n",
      "        [10, 11, 12]])\n",
      "torch.Size([4, 3])\n",
      "tensor([[[ 1,  2,  3],\n",
      "         [ 4,  5,  6]],\n",
      "\n",
      "        [[ 7,  8,  9],\n",
      "         [10, 11, 12]]])\n",
      "torch.Size([2, 2, 3])\n"
     ]
    }
   ],
   "execution_count": 6
  },
  {
   "metadata": {
    "ExecuteTime": {
     "end_time": "2025-10-01T00:48:49.264024Z",
     "start_time": "2025-10-01T00:48:49.231203Z"
    }
   },
   "cell_type": "code",
   "source": [
    "# 📌 문제 4: torch.index_select()를 이용해 특정 행/열을 선택하세요.\n",
    "\n",
    "# (1) 크기가 (4,4)인 랜덤 텐서를 생성하세요.\n",
    "x = torch.rand(4, 4)\n",
    "print(\"원본 텐서:\\n\", x)\n",
    "# (2) 첫 번째 열과 세 번째 열을 선택하여 새로운 텐서를 만드세요.\n",
    "indices = torch.tensor([0, 2])\n",
    "selected_cols = torch.index_select(x, dim=1, index=indices)\n",
    "print(\"선택된 열들:\\n\", selected_cols)"
   ],
   "id": "ad41a24af0dd014a",
   "outputs": [
    {
     "name": "stdout",
     "output_type": "stream",
     "text": [
      "원본 텐서:\n",
      " tensor([[0.5536, 0.5595, 0.3653, 0.8801],\n",
      "        [0.0011, 0.6750, 0.4126, 0.0653],\n",
      "        [0.8411, 0.6382, 0.3120, 0.7990],\n",
      "        [0.7309, 0.6241, 0.7642, 0.3495]])\n",
      "선택된 열들:\n",
      " tensor([[0.5536, 0.3653],\n",
      "        [0.0011, 0.4126],\n",
      "        [0.8411, 0.3120],\n",
      "        [0.7309, 0.7642]])\n"
     ]
    }
   ],
   "execution_count": 7
  },
  {
   "metadata": {
    "ExecuteTime": {
     "end_time": "2025-10-01T00:48:49.374213Z",
     "start_time": "2025-10-01T00:48:49.274527Z"
    }
   },
   "cell_type": "code",
   "source": [
    "# 📌 문제 5: torch.topk()와 masked_fill()을 조합하여\n",
    "# 특정 조건을 만족하는 값을 변경하세요.\n",
    "\n",
    "# (1) 크기가 (3,5)인 랜덤 텐서를 생성하세요.\n",
    "x = torch.rand(3, 5)\n",
    "print(\"원본 텐서:\\n\", x)\n",
    "# (2) 각 행에서 상위 3개의 값만 유지하고 나머지는 0으로 채우세요.\n",
    "values, indices = torch.topk(x, k=3, dim=1)\n",
    "#(3) 나머지 모든 원소는 0으로 만들고, 상위 3개만 위치만 유지.\n",
    "# scatter_(1, indices, 1), 1 : 열기준으로 값을 할당,\n",
    "# 찾은 위치의 값 할당,\n",
    "# 1 : 해당 위치에 1로 값을 변경.\n",
    "mask = torch.zeros_like(x).scatter_(1, indices, 1)\n",
    "masked_x = x * mask\n",
    "print(\"상위 3개 값만 유지된 텐서:\\n\", masked_x)"
   ],
   "id": "7e89d858e2cfb8b1",
   "outputs": [
    {
     "name": "stdout",
     "output_type": "stream",
     "text": [
      "원본 텐서:\n",
      " tensor([[0.7034, 0.3195, 0.9237, 0.9193, 0.7488],\n",
      "        [0.2879, 0.7110, 0.9021, 0.0949, 0.2085],\n",
      "        [0.5303, 0.6308, 0.1349, 0.2274, 0.2878]])\n",
      "상위 3개 값만 유지된 텐서:\n",
      " tensor([[0.0000, 0.0000, 0.9237, 0.9193, 0.7488],\n",
      "        [0.2879, 0.7110, 0.9021, 0.0000, 0.0000],\n",
      "        [0.5303, 0.6308, 0.0000, 0.0000, 0.2878]])\n"
     ]
    }
   ],
   "execution_count": 8
  },
  {
   "metadata": {
    "ExecuteTime": {
     "end_time": "2025-10-01T00:49:10.133675Z",
     "start_time": "2025-10-01T00:49:10.121030Z"
    }
   },
   "cell_type": "code",
   "source": [
    "# 📌 문제 6: torch.randperm()을 이용하여 데이터를 랜덤하게 섞은 후,\n",
    "# torch.chunk()로 나누세요.\n",
    "#\n",
    "# (1) 10개의 원소를 가진 텐서를 0~9까지 숫자로 채우세요.\n",
    "x = torch.arange(10)\n",
    "print(\"원본 텐서:\", x)\n",
    "\n",
    "# (2) `torch.randperm()`을 사용하여 무작위로 섞으세요.\n",
    "shuffled_x = x[torch.randperm(10)]\n",
    "print(\"섞인 텐서:\", shuffled_x)\n",
    "# (3) `torch.chunk()`를 사용하여 2개의 부분으로 나누세요.\n",
    "chunks = torch.chunk(shuffled_x, chunks=2)\n",
    "print(\"첫 번째 부분:\", chunks[0])\n",
    "print(\"두 번째 부분:\", chunks[1])"
   ],
   "id": "779c6c937d4a789",
   "outputs": [
    {
     "name": "stdout",
     "output_type": "stream",
     "text": [
      "원본 텐서: tensor([0, 1, 2, 3, 4, 5, 6, 7, 8, 9])\n",
      "섞인 텐서: tensor([7, 4, 5, 1, 8, 6, 3, 2, 9, 0])\n",
      "첫 번째 부분: tensor([7, 4, 5, 1, 8])\n",
      "두 번째 부분: tensor([6, 3, 2, 9, 0])\n"
     ]
    }
   ],
   "execution_count": 17
  },
  {
   "metadata": {
    "ExecuteTime": {
     "end_time": "2025-10-01T00:48:49.610314Z",
     "start_time": "2025-10-01T00:48:49.558388Z"
    }
   },
   "cell_type": "code",
   "source": [
    "# 📌 문제 7: expand()를 사용하여 텐서 크기를 확장하세요.\n",
    "\n",
    "# (1) 크기가 (1, 3)인 텐서를 생성하세요.\n",
    "x = torch.tensor([[1, 2, 3]])  # Shape: (1,3)\n",
    "print(\"원본 텐서:\\n\", x)\n",
    "# (2) `expand()`를 사용하여 (5, 3) 크기로 확장하세요.\n",
    "expanded_x = x.expand(5, 3)\n",
    "print(\"expand() 적용 후:\\n\", expanded_x)\n"
   ],
   "id": "820970dc612f5322",
   "outputs": [
    {
     "name": "stdout",
     "output_type": "stream",
     "text": [
      "원본 텐서:\n",
      " tensor([[1, 2, 3]])\n",
      "expand() 적용 후:\n",
      " tensor([[1, 2, 3],\n",
      "        [1, 2, 3],\n",
      "        [1, 2, 3],\n",
      "        [1, 2, 3],\n",
      "        [1, 2, 3]])\n"
     ]
    }
   ],
   "execution_count": 10
  },
  {
   "metadata": {
    "ExecuteTime": {
     "end_time": "2025-10-01T00:48:49.648864Z",
     "start_time": "2025-10-01T00:48:49.630253Z"
    }
   },
   "cell_type": "code",
   "source": [
    "# 📌 문제 8: split()과 chunk()의 차이를 이해하세요.\n",
    "#\n",
    "# (1) 크기가 (10,)인 1D 텐서를 생성하세요.\n",
    "x = torch.arange(10)\n",
    "print(\"원본 텐서:\", x)\n",
    "# (2) `split()`을 사용하여 3개의 텐서로 나누세요.\n",
    "split_result = torch.split(x, [3, 3, 4])\n",
    "print(\"split() 결과:\", split_result)\n",
    "# (3) `chunk()`을 사용하여 3개의 텐서로 나누세요.\n",
    "chunk_result = torch.chunk(x, chunks=3)\n",
    "print(\"chunk() 결과:\", chunk_result)"
   ],
   "id": "4cfad53a64a335ab",
   "outputs": [
    {
     "name": "stdout",
     "output_type": "stream",
     "text": [
      "원본 텐서: tensor([0, 1, 2, 3, 4, 5, 6, 7, 8, 9])\n",
      "split() 결과: (tensor([0, 1, 2]), tensor([3, 4, 5]), tensor([6, 7, 8, 9]))\n",
      "chunk() 결과: (tensor([0, 1, 2, 3]), tensor([4, 5, 6, 7]), tensor([8, 9]))\n"
     ]
    }
   ],
   "execution_count": 11
  },
  {
   "metadata": {
    "ExecuteTime": {
     "end_time": "2025-10-01T00:48:49.715021Z",
     "start_time": "2025-10-01T00:48:49.680041Z"
    }
   },
   "cell_type": "code",
   "source": [
    "# 📌 문제 9: masked_fill()을 사용하여 특정 조건을 만족하는 요소를 변경하세요.\n",
    "\n",
    "# (1) 크기가 (3, 3)인 랜덤 텐서를 생성하세요.\n",
    "x = torch.rand(3, 3)\n",
    "print(\"원본 텐서:\\n\", x)\n",
    "\n",
    "# (2) 값이 0.5보다 작은 요소를 -1로 변경하세요.\n",
    "masked_x = x.masked_fill(x < 0.5, -1)\n",
    "print(\"masked_fill() 적용 후:\\n\", masked_x)\n"
   ],
   "id": "54c4e1030d4f6300",
   "outputs": [
    {
     "name": "stdout",
     "output_type": "stream",
     "text": [
      "원본 텐서:\n",
      " tensor([[0.9911, 0.7072, 0.0098],\n",
      "        [0.5663, 0.7881, 0.7023],\n",
      "        [0.8054, 0.1098, 0.5821]])\n",
      "masked_fill() 적용 후:\n",
      " tensor([[ 0.9911,  0.7072, -1.0000],\n",
      "        [ 0.5663,  0.7881,  0.7023],\n",
      "        [ 0.8054, -1.0000,  0.5821]])\n"
     ]
    }
   ],
   "execution_count": 12
  },
  {
   "metadata": {
    "ExecuteTime": {
     "end_time": "2025-10-01T00:48:49.730526Z",
     "start_time": "2025-10-01T00:48:49.724541Z"
    }
   },
   "cell_type": "code",
   "source": [
    "# 📌 문제 10: torch.index_select()를 이용하여 특정 행을 선택하세요.\n",
    "#\n",
    "# (1) 크기가 (5, 4)인 랜덤 텐서를 생성하세요.\n",
    "x = torch.rand(5, 4)\n",
    "print(\"원본 텐서:\\n\", x)\n",
    "\n",
    "# (2) 두 번째와 네 번째 행만 선택하세요.\n",
    "indices = torch.tensor([1, 3])\n",
    "selected_rows = torch.index_select(x, dim=0, index=indices)\n",
    "print(\"선택된 행들:\\n\", selected_rows)"
   ],
   "id": "736c6a9c109422ea",
   "outputs": [
    {
     "name": "stdout",
     "output_type": "stream",
     "text": [
      "원본 텐서:\n",
      " tensor([[0.3833, 0.3770, 0.9593, 0.8544],\n",
      "        [0.3237, 0.2942, 0.6779, 0.3943],\n",
      "        [0.0270, 0.5681, 0.3485, 0.8482],\n",
      "        [0.0488, 0.9066, 0.3884, 0.5127],\n",
      "        [0.2268, 0.4229, 0.4583, 0.6718]])\n",
      "선택된 행들:\n",
      " tensor([[0.3237, 0.2942, 0.6779, 0.3943],\n",
      "        [0.0488, 0.9066, 0.3884, 0.5127]])\n"
     ]
    }
   ],
   "execution_count": 13
  },
  {
   "metadata": {
    "collapsed": true,
    "ExecuteTime": {
     "end_time": "2025-10-01T00:48:49.749577Z",
     "start_time": "2025-10-01T00:48:49.743565Z"
    }
   },
   "cell_type": "code",
   "source": "",
   "id": "initial_id",
   "outputs": [],
   "execution_count": null
  }
 ],
 "metadata": {
  "kernelspec": {
   "display_name": "Python 3",
   "language": "python",
   "name": "python3"
  },
  "language_info": {
   "codemirror_mode": {
    "name": "ipython",
    "version": 2
   },
   "file_extension": ".py",
   "mimetype": "text/x-python",
   "name": "python",
   "nbconvert_exporter": "python",
   "pygments_lexer": "ipython2",
   "version": "2.7.6"
  }
 },
 "nbformat": 4,
 "nbformat_minor": 5
}
