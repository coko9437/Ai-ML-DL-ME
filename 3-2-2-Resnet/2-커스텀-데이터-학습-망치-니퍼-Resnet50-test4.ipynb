{
 "cells": [
  {
   "cell_type": "code",
   "source": [
    "from google.colab import drive\n",
    "drive.mount('/content/drive')"
   ],
   "metadata": {
    "id": "Rt5ROFKk8_iu",
    "executionInfo": {
     "status": "ok",
     "timestamp": 1742366310441,
     "user_tz": -540,
     "elapsed": 25522,
     "user": {
      "displayName": "이상용",
      "userId": "12156487413186259581"
     }
    },
    "colab": {
     "base_uri": "https://localhost:8080/"
    },
    "outputId": "1b0278d0-6f66-4795-eb32-444335aa00be"
   },
   "id": "Rt5ROFKk8_iu",
   "outputs": [],
   "execution_count": null
  },
  {
   "cell_type": "code",
   "source": [
    "# # 압축 해제하는 명령어\n",
    "# !unzip /content/drive/MyDrive/busanit501-1234/train.zip -d /content/drive/MyDrive/busanit501-1234/class/\n"
   ],
   "metadata": {
    "colab": {
     "base_uri": "https://localhost:8080/"
    },
    "id": "_z3JNgY69YsW",
    "executionInfo": {
     "status": "ok",
     "timestamp": 1742279976563,
     "user_tz": -540,
     "elapsed": 9454,
     "user": {
      "displayName": "이상용",
      "userId": "12156487413186259581"
     }
    },
    "outputId": "8460cdb9-25b6-4547-eaa4-676a15673e71"
   },
   "id": "_z3JNgY69YsW",
   "outputs": [],
   "execution_count": null
  },
  {
   "cell_type": "code",
   "source": [
    "from google.colab import drive\n",
    "drive.mount('/content/drive')"
   ],
   "metadata": {
    "colab": {
     "base_uri": "https://localhost:8080/"
    },
    "id": "xLiiU7ER-OOl",
    "executionInfo": {
     "status": "ok",
     "timestamp": 1742279919547,
     "user_tz": -540,
     "elapsed": 28597,
     "user": {
      "displayName": "이상용",
      "userId": "12156487413186259581"
     }
    },
    "outputId": "4cb0c463-841f-4762-ad77-949b4182b4c7"
   },
   "id": "xLiiU7ER-OOl",
   "outputs": [],
   "execution_count": null
  },
  {
   "metadata": {
    "id": "b7e30ad38852ce6b",
    "colab": {
     "base_uri": "https://localhost:8080/"
    },
    "executionInfo": {
     "status": "ok",
     "timestamp": 1742367756053,
     "user_tz": -540,
     "elapsed": 11028,
     "user": {
      "displayName": "이상용",
      "userId": "12156487413186259581"
     }
    },
    "outputId": "c4e2aef4-49fe-4382-e8f5-107dd066e42a"
   },
   "cell_type": "code",
   "source": [
    "import torch\n",
    "import torchvision\n",
    "import torchvision.transforms as transforms\n",
    "import torchvision.datasets as datasets\n",
    "from torch.utils.data import DataLoader\n",
    "\n",
    "# ✅ 데이터 경로 설정\n",
    "data_dir = \"/content/drive/MyDrive/busanit501-1234/class\"\n",
    "\n",
    "# 데이터 변환 (이미지 크기 조정, 정규화)\n",
    "transform = transforms.Compose([\n",
    "    transforms.Resize((224, 224)),  # VGG 스타일 크기\n",
    "    transforms.ToTensor(),\n",
    "    transforms.Normalize(mean=[0.485, 0.456, 0.406], std=[0.229, 0.224, 0.225])  # ResNet 정규화 값\n",
    "])\n",
    "\n",
    "# 데이터셋 로드\n",
    "train_dataset = datasets.ImageFolder(root=data_dir, transform=transform)\n",
    "train_loader = DataLoader(train_dataset, batch_size=32, shuffle=True)\n",
    "\n",
    "# 클래스 목록 확인\n",
    "class_names = train_dataset.classes\n",
    "num_classes = len(class_names)\n",
    "print(f\"✅ 클래스 목록: {class_names}\")\n"
   ],
   "id": "b7e30ad38852ce6b",
   "outputs": [],
   "execution_count": null
  },
  {
   "cell_type": "code",
   "id": "initial_id",
   "metadata": {
    "collapsed": true,
    "id": "initial_id",
    "colab": {
     "base_uri": "https://localhost:8080/"
    },
    "executionInfo": {
     "status": "ok",
     "timestamp": 1742367773728,
     "user_tz": -540,
     "elapsed": 11,
     "user": {
      "displayName": "이상용",
      "userId": "12156487413186259581"
     }
    },
    "outputId": "9a696694-d34f-455a-a4ab-2b7b73743e37"
   },
   "source": [
    "from google.colab import drive\n",
    "import os\n",
    "\n",
    "\n",
    "# 데이터 폴더 경로 설정\n",
    "data_dir = \"/content/drive/MyDrive/busanit501-1234/class/\"\n",
    "\n",
    "# 폴더 안에 있는 클래스 확인\n",
    "print(\"🔍 데이터셋 폴더 내 클래스 확인:\")\n",
    "print(os.listdir(data_dir))\n"
   ],
   "outputs": [],
   "execution_count": null
  },
  {
   "metadata": {
    "id": "51780762fc9cf6f7",
    "executionInfo": {
     "status": "ok",
     "timestamp": 1742367779200,
     "user_tz": -540,
     "elapsed": 1790,
     "user": {
      "displayName": "이상용",
      "userId": "12156487413186259581"
     }
    },
    "colab": {
     "base_uri": "https://localhost:8080/"
    },
    "outputId": "f160462b-ffe0-403e-c5fa-588b0ccc9367"
   },
   "cell_type": "code",
   "source": [
    "import torch.nn as nn\n",
    "import torch.optim as optim\n",
    "import torchvision.models as models\n",
    "\n",
    "# ✅ ResNet-50 모델 불러오기 (사전 학습된 모델 사용)\n",
    "model = models.resnet50(pretrained=True)\n",
    "\n",
    "# ✅ 마지막 Fully Connected Layer 변경 (기존 1000 → 데이터셋 클래스 개수)\n",
    "model.fc = nn.Linear(model.fc.in_features, num_classes)\n",
    "\n",
    "# ✅ 모델을 GPU로 이동 (가능한 경우)\n",
    "device = torch.device(\"cuda\" if torch.cuda.is_available() else \"cpu\")\n",
    "model.to(device)\n",
    "\n",
    "# 최적화 함수 및 손실 함수\n",
    "criterion = nn.CrossEntropyLoss()\n",
    "optimizer = optim.Adam(model.parameters(), lr=0.001)\n"
   ],
   "id": "51780762fc9cf6f7",
   "outputs": [],
   "execution_count": null
  },
  {
   "metadata": {
    "id": "b63aa1d040f9b117",
    "colab": {
     "base_uri": "https://localhost:8080/"
    },
    "executionInfo": {
     "status": "ok",
     "timestamp": 1742368299979,
     "user_tz": -540,
     "elapsed": 506139,
     "user": {
      "displayName": "이상용",
      "userId": "12156487413186259581"
     }
    },
    "outputId": "d71a2534-49ab-40ff-9224-ca6ac47ccf15"
   },
   "cell_type": "code",
   "source": [
    "num_epochs = 10  # 학습 횟수\n",
    "print(\"🚀 모델 학습 시작...\")\n",
    "for epoch in range(num_epochs):\n",
    "    running_loss = 0.0\n",
    "    for i, (images, labels) in enumerate(train_loader):\n",
    "        images, labels = images.to(device), labels.to(device)\n",
    "\n",
    "        optimizer.zero_grad()\n",
    "        outputs = model(images)\n",
    "        loss = criterion(outputs, labels)\n",
    "        loss.backward()\n",
    "        optimizer.step()\n",
    "        running_loss += loss.item()\n",
    "\n",
    "        # 1번마다 손실값 출력\n",
    "        if (i + 1) % 1 == 0:\n",
    "            print(f\"Epoch [{epoch+1}/{num_epochs}], Step [{i+1}/{len(train_loader)}], Loss: {running_loss / 100:.4f}\")\n",
    "            running_loss = 0.0\n"
   ],
   "id": "b63aa1d040f9b117",
   "outputs": [],
   "execution_count": null
  },
  {
   "metadata": {
    "id": "3476566cbfe22817",
    "colab": {
     "base_uri": "https://localhost:8080/"
    },
    "executionInfo": {
     "status": "ok",
     "timestamp": 1742368308135,
     "user_tz": -540,
     "elapsed": 292,
     "user": {
      "displayName": "이상용",
      "userId": "12156487413186259581"
     }
    },
    "outputId": "e26a8579-3363-495d-e425-64047c008050"
   },
   "cell_type": "code",
   "source": [
    "model_path = \"/content/drive/MyDrive/busanit501-1234/resnet50_model.pth\"\n",
    "torch.save(model.state_dict(), model_path)\n",
    "print(f\"✅ 학습된 모델이 저장되었습니다: {model_path}\")\n"
   ],
   "id": "3476566cbfe22817",
   "outputs": [],
   "execution_count": null
  },
  {
   "metadata": {
    "id": "33bcf739558ccf89",
    "executionInfo": {
     "status": "ok",
     "timestamp": 1742368313785,
     "user_tz": -540,
     "elapsed": 561,
     "user": {
      "displayName": "이상용",
      "userId": "12156487413186259581"
     }
    },
    "colab": {
     "base_uri": "https://localhost:8080/"
    },
    "outputId": "9ac198c2-5713-4fbd-ad0f-51b1a90d1a4c"
   },
   "cell_type": "code",
   "source": [
    "def load_model(model_path, num_classes):\n",
    "    model = models.resnet50(pretrained=False)  # 새 모델 생성\n",
    "    model.fc = nn.Linear(model.fc.in_features, num_classes)  # Fully Connected Layer 맞춤 설정\n",
    "    model.load_state_dict(torch.load(model_path, map_location=torch.device(\"cpu\")))  # CPU에서 로드\n",
    "    model.eval()  # 평가 모드로 설정\n",
    "    return model\n",
    "\n",
    "# ✅ 모델 불러오기\n",
    "loaded_model = load_model(model_path, num_classes)\n",
    "print(\"✅ 모델이 성공적으로 불러와졌습니다!\")"
   ],
   "id": "33bcf739558ccf89",
   "outputs": [],
   "execution_count": null
  },
  {
   "metadata": {
    "id": "692438c0cf1a1400",
    "colab": {
     "base_uri": "https://localhost:8080/",
     "height": 465
    },
    "executionInfo": {
     "status": "ok",
     "timestamp": 1742368407693,
     "user_tz": -540,
     "elapsed": 1082,
     "user": {
      "displayName": "이상용",
      "userId": "12156487413186259581"
     }
    },
    "outputId": "404af38f-6759-46fc-d014-be779b41074a"
   },
   "cell_type": "code",
   "source": [
    "from PIL import Image\n",
    "import matplotlib.pyplot as plt\n",
    "import torch.nn.functional as F\n",
    "\n",
    "def predict_sample(image_path, model, class_names):\n",
    "    \"\"\"\n",
    "       저장된 ResNet-50 모델을 사용하여 샘플 이미지를 예측하는 함수.\n",
    "    \"\"\"\n",
    "    # 이미지 불러오기 및 전처리\n",
    "    image = Image.open(image_path).convert(\"RGB\")\n",
    "    transform = transforms.Compose([\n",
    "        transforms.Resize((224, 224)),\n",
    "        transforms.ToTensor(),\n",
    "        transforms.Normalize(mean=[0.485, 0.456, 0.406], std=[0.229, 0.224, 0.225])  # ResNet 정규화 값\n",
    "    ])\n",
    "    image = transform(image).unsqueeze(0)  # 배치 차원 추가 (1, 3, 224, 224)\n",
    "\n",
    "    # 모델 예측\n",
    "    with torch.no_grad():\n",
    "      output = model(image)\n",
    "      probabilities = F.softmax(output[0], dim=0)  # Softmax 적용\n",
    "      predicted_idx = torch.argmax(probabilities).item()\n",
    "      confidence = probabilities[predicted_idx].item()\n",
    "\n",
    "    # ✅ 결과 출력\n",
    "    plt.imshow(Image.open(image_path))\n",
    "    plt.title(f\"Predicted: {class_names[predicted_idx]} ({confidence * 100:.2f}%)\")\n",
    "    plt.axis('off')\n",
    "    plt.show()\n",
    "\n",
    "    print(f\"🔍 예측된 클래스: {class_names[predicted_idx]}\")\n",
    "    print(f\"📊 정확도: {confidence * 100:.2f}%\")\n",
    "\n",
    "# 🏆 샘플 이미지 경로 입력하여 예측 실행\n",
    "sample_image = \"/content/drive/MyDrive/busanit501-1234/sample.png\"\n",
    "predict_sample(sample_image, loaded_model, class_names)\n"
   ],
   "id": "692438c0cf1a1400",
   "outputs": [],
   "execution_count": null
  },
  {
   "cell_type": "code",
   "source": [],
   "metadata": {
    "id": "hYBKKO3LDJRZ"
   },
   "id": "hYBKKO3LDJRZ",
   "outputs": [],
   "execution_count": null
  }
 ],
 "metadata": {
  "kernelspec": {
   "display_name": "Python 3",
   "name": "python3"
  },
  "language_info": {
   "codemirror_mode": {
    "name": "ipython",
    "version": 2
   },
   "file_extension": ".py",
   "mimetype": "text/x-python",
   "name": "python",
   "nbconvert_exporter": "python",
   "pygments_lexer": "ipython2",
   "version": "2.7.6"
  },
  "colab": {
   "provenance": [],
   "gpuType": "T4"
  },
  "accelerator": "GPU"
 },
 "nbformat": 4,
 "nbformat_minor": 5
}
